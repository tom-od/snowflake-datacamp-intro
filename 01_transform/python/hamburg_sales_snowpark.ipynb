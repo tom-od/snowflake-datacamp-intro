{
 "cells": [
  {
   "cell_type": "markdown",
   "id": "0a499f95-57dc-48ea-b6f6-0082ee4516db",
   "metadata": {
    "collapsed": false,
    "name": "title"
   },
   "source": [
    "# Module 3: Data Transformations with Snowpark"
   ]
  },
  {
   "cell_type": "markdown",
   "id": "28a51626-ef0f-412c-8af5-a7964a1c85ee",
   "metadata": {
    "collapsed": false,
    "name": "snowpark_session"
   },
   "source": [
    "## Start a Snowpark session with `get_active_session()`:"
   ]
  },
  {
   "cell_type": "code",
   "execution_count": null,
   "id": "3775908f-ca36-4846-8f38-5adca39217f2",
   "metadata": {
    "language": "python",
    "name": "start_snowpark_session"
   },
   "outputs": [],
   "source": [
    "from snowflake.snowpark.functions import col, max as sp_max, year, month\n",
    "\n",
    "\n",
    "# We can also use Snowpark for our analyses!\n",
    "from snowflake.snowpark.context import get_active_session\n",
    "session = get_active_session()\n"
   ]
  },
  {
   "cell_type": "markdown",
   "id": "4df144e4-bd0f-4d07-808f-d3e38c933269",
   "metadata": {
    "collapsed": false,
    "name": "load_daily_weather_v"
   },
   "source": [
    "## Load the daily_weather_v using session.table"
   ]
  },
  {
   "cell_type": "code",
   "execution_count": null,
   "id": "bd5f6456-4de2-434b-ad08-e24bce713a6f",
   "metadata": {
    "language": "python",
    "name": "daily_weather"
   },
   "outputs": [],
   "source": [
    "daily_weather = session.table(\"tasty_bytes.harmonized.daily_weather_v\")\n",
    "\n",
    "filtered_weather = daily_weather.filter(\n",
    "    (col(\"country_desc\") == \"Germany\") &\n",
    "    (col(\"city_name\") == \"Hamburg\") &\n",
    "    (year(col(\"date_valid_std\")) == 2022) &\n",
    "    (month(col(\"date_valid_std\")) == 2)\n",
    ")"
   ]
  },
  {
   "cell_type": "markdown",
   "id": "6ae3242c-6945-4706-911a-71473b654329",
   "metadata": {
    "collapsed": false,
    "name": "filter_agg_sort"
   },
   "source": [
    "## Perform filtering, aggregations, and sorting"
   ]
  },
  {
   "cell_type": "code",
   "execution_count": null,
   "id": "2c722fbd-78c2-4dba-b35a-81e1975d4454",
   "metadata": {
    "language": "python",
    "name": "transformations"
   },
   "outputs": [],
   "source": [
    "aggregated_weather = filtered_weather.groupBy(\n",
    "    \"country_desc\", \"city_name\", \"date_valid_std\"\n",
    ").agg(\n",
    "    sp_max(\"max_wind_speed_100m_mph\").alias(\"max_wind_speed_100m_mph\")\n",
    ")\n",
    "\n",
    "sorted_weather = aggregated_weather.sort(col(\"date_valid_std\").desc())\n"
   ]
  },
  {
   "cell_type": "markdown",
   "id": "27d1f112-f73a-4d6e-993f-84d29e6dc1e9",
   "metadata": {
    "collapsed": false,
    "name": "results"
   },
   "source": [
    "## Display the results"
   ]
  },
  {
   "cell_type": "code",
   "execution_count": null,
   "id": "74966e8a-9e1c-48c6-8b7e-5617c231a57e",
   "metadata": {
    "language": "python",
    "name": "print_sorted_weather"
   },
   "outputs": [],
   "source": [
    "sorted_weather.show(30)"
   ]
  },
  {
   "cell_type": "code",
   "execution_count": null,
   "id": "4aa00e58-3a9f-4fd5-ae75-6b06e49bbbf4",
   "metadata": {
    "language": "python",
    "name": "create_view"
   },
   "outputs": [],
   "source": [
    "sorted_weather.create_or_replace_view(\"tasty_bytes.harmonized.windspeed_hamburg_snowpark\")"
   ]
  }
 ],
 "metadata": {
  "kernelspec": {
   "display_name": "Streamlit Notebook",
   "name": "streamlit"
  }
 },
 "nbformat": 4,
 "nbformat_minor": 5
}
